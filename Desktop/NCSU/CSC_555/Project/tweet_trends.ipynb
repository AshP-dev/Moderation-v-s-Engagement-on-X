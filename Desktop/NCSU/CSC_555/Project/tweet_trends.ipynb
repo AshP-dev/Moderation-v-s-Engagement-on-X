{
 "cells": [
  {
   "cell_type": "markdown",
   "metadata": {},
   "source": [
    "## Analysis of Trends in Censored Tweets"
   ]
  },
  {
   "cell_type": "code",
   "execution_count": null,
   "metadata": {},
   "outputs": [
    {
     "data": {
      "text/html": [
       "<div>\n",
       "<style scoped>\n",
       "    .dataframe tbody tr th:only-of-type {\n",
       "        vertical-align: middle;\n",
       "    }\n",
       "\n",
       "    .dataframe tbody tr th {\n",
       "        vertical-align: top;\n",
       "    }\n",
       "\n",
       "    .dataframe thead th {\n",
       "        text-align: right;\n",
       "    }\n",
       "</style>\n",
       "<table border=\"1\" class=\"dataframe\">\n",
       "  <thead>\n",
       "    <tr style=\"text-align: right;\">\n",
       "      <th></th>\n",
       "      <th>id</th>\n",
       "      <th>lang</th>\n",
       "      <th>text</th>\n",
       "    </tr>\n",
       "  </thead>\n",
       "  <tbody>\n",
       "    <tr>\n",
       "      <th>0</th>\n",
       "      <td>991433704575852544</td>\n",
       "      <td>en</td>\n",
       "      <td>More photos of police brutality today in Istan...</td>\n",
       "    </tr>\n",
       "    <tr>\n",
       "      <th>1</th>\n",
       "      <td>991686033669488640</td>\n",
       "      <td>tr</td>\n",
       "      <td>@Umit_Burcundan Kesinlikle Katılmadığım Bir Fi...</td>\n",
       "    </tr>\n",
       "    <tr>\n",
       "      <th>2</th>\n",
       "      <td>991691846731649025</td>\n",
       "      <td>tr</td>\n",
       "      <td>Hizmet insanları için \"aklını kira verenler\" i...</td>\n",
       "    </tr>\n",
       "    <tr>\n",
       "      <th>3</th>\n",
       "      <td>991102360733745157</td>\n",
       "      <td>tr</td>\n",
       "      <td>Sn. @UVeraTuna hanımefendi vefat eden #EsmaUlu...</td>\n",
       "    </tr>\n",
       "    <tr>\n",
       "      <th>4</th>\n",
       "      <td>991694254278959104</td>\n",
       "      <td>tr</td>\n",
       "      <td>AYM, cezaevinde kitap yasağını hukuka aykırı b...</td>\n",
       "    </tr>\n",
       "    <tr>\n",
       "      <th>...</th>\n",
       "      <td>...</td>\n",
       "      <td>...</td>\n",
       "      <td>...</td>\n",
       "    </tr>\n",
       "    <tr>\n",
       "      <th>211</th>\n",
       "      <td>991708914029940736</td>\n",
       "      <td>tr</td>\n",
       "      <td>Rahmetli Esma Uludağ Hanımefendi'nin en son me...</td>\n",
       "    </tr>\n",
       "    <tr>\n",
       "      <th>212</th>\n",
       "      <td>991314489885839360</td>\n",
       "      <td>und</td>\n",
       "      <td>https://t.co/vfV6Yltdoy</td>\n",
       "    </tr>\n",
       "    <tr>\n",
       "      <th>213</th>\n",
       "      <td>991766893638946822</td>\n",
       "      <td>tr</td>\n",
       "      <td>Türkiye siyaseti arkaik milliyetçiliğin kuşatm...</td>\n",
       "    </tr>\n",
       "    <tr>\n",
       "      <th>214</th>\n",
       "      <td>984469208888045568</td>\n",
       "      <td>ar</td>\n",
       "      <td>مترجم  محارم  من تحت الغطاء - طيز زوجة ابي الك...</td>\n",
       "    </tr>\n",
       "    <tr>\n",
       "      <th>215</th>\n",
       "      <td>991902246777405440</td>\n",
       "      <td>es</td>\n",
       "      <td>Sin palabras. https://t.co/X7g4MHyGCy</td>\n",
       "    </tr>\n",
       "  </tbody>\n",
       "</table>\n",
       "<p>216 rows × 3 columns</p>\n",
       "</div>"
      ],
      "text/plain": [
       "                     id lang  \\\n",
       "0    991433704575852544   en   \n",
       "1    991686033669488640   tr   \n",
       "2    991691846731649025   tr   \n",
       "3    991102360733745157   tr   \n",
       "4    991694254278959104   tr   \n",
       "..                  ...  ...   \n",
       "211  991708914029940736   tr   \n",
       "212  991314489885839360  und   \n",
       "213  991766893638946822   tr   \n",
       "214  984469208888045568   ar   \n",
       "215  991902246777405440   es   \n",
       "\n",
       "                                                  text  \n",
       "0    More photos of police brutality today in Istan...  \n",
       "1    @Umit_Burcundan Kesinlikle Katılmadığım Bir Fi...  \n",
       "2    Hizmet insanları için \"aklını kira verenler\" i...  \n",
       "3    Sn. @UVeraTuna hanımefendi vefat eden #EsmaUlu...  \n",
       "4    AYM, cezaevinde kitap yasağını hukuka aykırı b...  \n",
       "..                                                 ...  \n",
       "211  Rahmetli Esma Uludağ Hanımefendi'nin en son me...  \n",
       "212                            https://t.co/vfV6Yltdoy  \n",
       "213  Türkiye siyaseti arkaik milliyetçiliğin kuşatm...  \n",
       "214  مترجم  محارم  من تحت الغطاء - طيز زوجة ابي الك...  \n",
       "215              Sin palabras. https://t.co/X7g4MHyGCy  \n",
       "\n",
       "[216 rows x 3 columns]"
      ]
     },
     "execution_count": 2,
     "metadata": {},
     "output_type": "execute_result"
    }
   ],
   "source": [
    "import pandas as pd\n",
    "\n",
    "# Load the CSV file\n",
    "file_path = 'parsed-files/write-folder/tweet_text.csv'\n",
    "data = pd.read_csv(file_path)\n",
    "\n",
    "data"
   ]
  },
  {
   "cell_type": "markdown",
   "metadata": {},
   "source": [
    "Censored tweets by language in dataset"
   ]
  },
  {
   "cell_type": "code",
   "execution_count": 3,
   "metadata": {},
   "outputs": [
    {
     "data": {
      "text/plain": [
       "lang\n",
       "en     81\n",
       "tr     78\n",
       "und    21\n",
       "es     10\n",
       "de      7\n",
       "ar      5\n",
       "ja      4\n",
       "fr      3\n",
       "uk      2\n",
       "in      2\n",
       "ur      1\n",
       "ca      1\n",
       "ko      1\n",
       "Name: count, dtype: int64"
      ]
     },
     "execution_count": 3,
     "metadata": {},
     "output_type": "execute_result"
    }
   ],
   "source": [
    "data['lang'].value_counts()"
   ]
  },
  {
   "cell_type": "markdown",
   "metadata": {},
   "source": [
    "Consider English language tweets only:"
   ]
  },
  {
   "cell_type": "code",
   "execution_count": 4,
   "metadata": {},
   "outputs": [
    {
     "data": {
      "text/plain": [
       "0      More photos of police brutality today in Istan...\n",
       "5      \"End DACA, unlawful from the get go!'  @POTUS ...\n",
       "6      You know you’re a Leftist Democrat, when you a...\n",
       "7      Liberal hate makes them look like jackasses. h...\n",
       "9      Recently, one of my friends and his son tried ...\n",
       "                             ...                        \n",
       "206    The Muslim Brotherhood infiltrated the Boy Sco...\n",
       "207    A graphical comparison of political violence. ...\n",
       "208    Mah goodness. Dare to correct a racist and the...\n",
       "209    Imagine being such a brainwashed weak minded f...\n",
       "210           like if you get it https://t.co/2osje0lPGm\n",
       "Name: text, Length: 81, dtype: object"
      ]
     },
     "execution_count": 4,
     "metadata": {},
     "output_type": "execute_result"
    }
   ],
   "source": [
    "english_tweets = data[data['lang'] == 'en']['text']\n",
    "\n",
    "english_tweets"
   ]
  },
  {
   "cell_type": "markdown",
   "metadata": {},
   "source": [
    "### Topic Modeling"
   ]
  },
  {
   "cell_type": "code",
   "execution_count": null,
   "metadata": {},
   "outputs": [
    {
     "data": {
      "text/plain": [
       "[['new',\n",
       "  'message',\n",
       "  'romliv',\n",
       "  'government',\n",
       "  'don',\n",
       "  'trump',\n",
       "  'right',\n",
       "  'language',\n",
       "  'speaks',\n",
       "  'https'],\n",
       " ['kurds',\n",
       "  'death',\n",
       "  'syria',\n",
       "  'brotherhood',\n",
       "  'jihadists',\n",
       "  'racist',\n",
       "  'think',\n",
       "  'wednesdaywisdom',\n",
       "  'political',\n",
       "  'amp'],\n",
       " ['inclusive',\n",
       "  'bsa',\n",
       "  'allowed',\n",
       "  'girls',\n",
       "  'girl',\n",
       "  'scout',\n",
       "  'boy',\n",
       "  'muslim',\n",
       "  'troops',\n",
       "  'scouts'],\n",
       " ['spent',\n",
       "  'want',\n",
       "  'displaced',\n",
       "  'realdonaldtrump',\n",
       "  'kurds',\n",
       "  'time',\n",
       "  'kurdish',\n",
       "  'turkey',\n",
       "  'people',\n",
       "  'just'],\n",
       " ['whcd',\n",
       "  'political',\n",
       "  'women',\n",
       "  'leftist',\n",
       "  'recognize',\n",
       "  'democrat',\n",
       "  'god',\n",
       "  'keepamericagreat',\n",
       "  'https',\n",
       "  'like']]"
      ]
     },
     "execution_count": 5,
     "metadata": {},
     "output_type": "execute_result"
    }
   ],
   "source": [
    "from sklearn.feature_extraction.text import TfidfVectorizer\n",
    "from sklearn.decomposition import NMF\n",
    "\n",
    "# TF-IDF Vectorizer to convert text data into numerical data\n",
    "tfidf_vectorizer = TfidfVectorizer(max_df=0.9, min_df=2, stop_words='english')\n",
    "tfidf = tfidf_vectorizer.fit_transform(english_tweets)\n",
    "\n",
    "# Apply NMF for topic modeling with an estimated number of topics\n",
    "num_topics = 5\n",
    "nmf_model = NMF(n_components=num_topics, random_state=1)\n",
    "nmf_model.fit(tfidf)\n",
    "\n",
    "# Extract the top words for each topic\n",
    "words = tfidf_vectorizer.get_feature_names_out()\n",
    "topics = []\n",
    "for topic_idx, topic in enumerate(nmf_model.components_):\n",
    "    top_words = [words[i] for i in topic.argsort()[-10:]]\n",
    "    topics.append(top_words)\n",
    "\n",
    "topics"
   ]
  },
  {
   "cell_type": "code",
   "execution_count": 6,
   "metadata": {},
   "outputs": [
    {
     "name": "stderr",
     "output_type": "stream",
     "text": [
      "[nltk_data] Downloading package stopwords to\n",
      "[nltk_data]     C:\\Users\\ajayc\\AppData\\Roaming\\nltk_data...\n",
      "[nltk_data]   Package stopwords is already up-to-date!\n"
     ]
    },
    {
     "data": {
      "text/plain": [
       "True"
      ]
     },
     "execution_count": 6,
     "metadata": {},
     "output_type": "execute_result"
    }
   ],
   "source": [
    "from collections import Counter\n",
    "import re\n",
    "from nltk.corpus import stopwords\n",
    "import nltk\n",
    "\n",
    "nltk.download('stopwords')  # to ignore common english words"
   ]
  },
  {
   "cell_type": "markdown",
   "metadata": {},
   "source": [
    "Most frequent words across all English censored tweets:"
   ]
  },
  {
   "cell_type": "code",
   "execution_count": 7,
   "metadata": {},
   "outputs": [
    {
     "name": "stdout",
     "output_type": "stream",
     "text": [
      "[('scouts', 10), ('kurds', 10), ('muslim', 9), ('boy', 7), ('girl', 7), ('troops', 7), ('people', 7), ('allowed', 6), ('kurdish', 6), ('scout', 6)]\n"
     ]
    }
   ],
   "source": [
    "all_text = ' '.join(english_tweets.astype(str))\n",
    "\n",
    "cleaned_text = re.sub(r'http\\S+|[^a-zA-Z\\s]', '', all_text)  # remove special characters\n",
    "\n",
    "words = cleaned_text.lower().split()\n",
    "\n",
    "stop_words = set(stopwords.words('english'))\n",
    "\n",
    "filtered_words = [word for word in words if word not in stop_words and word != 'amp']\n",
    "\n",
    "word_counts = Counter(filtered_words) # Count the frequency of each word\n",
    "\n",
    "most_common_words = word_counts.most_common(10) # Get the most common words\n",
    "\n",
    "print(most_common_words)"
   ]
  },
  {
   "cell_type": "code",
   "execution_count": 8,
   "metadata": {},
   "outputs": [
    {
     "data": {
      "image/png": "[encoded data removed]",
      "text/plain": [
       "<Figure size 1000x600 with 1 Axes>"
      ]
     },
     "metadata": {},
     "output_type": "display_data"
    }
   ],
   "source": [
    "import matplotlib.pyplot as plt\n",
    "\n",
    "words_list = []\n",
    "counts_list = []\n",
    "\n",
    "for i in most_common_words:\n",
    "    words, counts = i\n",
    "    words_list.append(words)\n",
    "    counts_list.append(counts)\n",
    "\n",
    "# Plotting the most common words\n",
    "plt.figure(figsize=(10, 6))\n",
    "plt.barh(words_list, counts_list, color='skyblue')\n",
    "plt.xlabel(\"Frequency\")\n",
    "plt.title(\"Most Common Words Across All Censored English Tweets\")\n",
    "plt.gca().invert_yaxis()  # to show most frequent word at top\n",
    "plt.show()\n"
   ]
  },
  {
   "cell_type": "code",
   "execution_count": 9,
   "metadata": {},
   "outputs": [
    {
     "name": "stdout",
     "output_type": "stream",
     "text": [
      "Topic #1:\n",
      "['think', 'syria', 'happening', 'homes', 'white', 'trump', 'afrin', 'turkey', 'racist', 'kurds']\n",
      "Topic #2:\n",
      "['lets', 'make', 'efrin', 'day', 'displaced', 'realdonaldtrump', 'war', 'kurdish', 'time', 'people']\n",
      "Topic #3:\n",
      "['political', 'goals', 'america', 'dont', 'scouts', 'president', 'god', 'speaks', 'language', 'muslim']\n",
      "Topic #4:\n",
      "['want', 'message', 'man', 'whcd', 'thats', 'children', 'end', 'years', 'like', 'use']\n",
      "Topic #5:\n",
      "['inclusive', 'bsa', 'new', 'girls', 'allowed', 'boy', 'girl', 'scout', 'troops', 'scouts']\n"
     ]
    },
    {
     "name": "stderr",
     "output_type": "stream",
     "text": [
      "[nltk_data] Downloading package punkt to\n",
      "[nltk_data]     C:\\Users\\ajayc\\AppData\\Roaming\\nltk_data...\n",
      "[nltk_data]   Package punkt is already up-to-date!\n"
     ]
    }
   ],
   "source": [
    "from sklearn.feature_extraction.text import CountVectorizer\n",
    "from sklearn.decomposition import LatentDirichletAllocation\n",
    "from nltk.tokenize import word_tokenize\n",
    "\n",
    "nltk.download('punkt')  # pre-trained model in NLTK library used for tokenizing text\n",
    "\n",
    "documents = english_tweets.astype(str).tolist()\n",
    "\n",
    "# Preprocess text\n",
    "stop_words = set(stopwords.words('english'))\n",
    "processed_docs = []\n",
    "for doc in documents:\n",
    "    cleaned_doc = re.sub(r'http\\S+|[^a-zA-Z\\s]', '', doc)\n",
    "    # Tokenize and remove stopwords\n",
    "    tokens = [word for word in word_tokenize(cleaned_doc.lower()) if word not in stop_words and len(word) > 2 and word != 'amp']\n",
    "    processed_docs.append(' '.join(tokens))\n",
    "\n",
    "vectorizer = CountVectorizer(max_df=0.95, min_df=2, stop_words='english')\n",
    "doc_term_matrix = vectorizer.fit_transform(processed_docs)\n",
    "\n",
    "# Perform LDA\n",
    "lda = LatentDirichletAllocation(n_components=5, random_state=42)\n",
    "lda.fit(doc_term_matrix)\n",
    "\n",
    "# Print topics\n",
    "for index, topic in enumerate(lda.components_):\n",
    "    print(f'Topic #{index + 1}:')\n",
    "    print([vectorizer.get_feature_names_out()[i] for i in topic.argsort()[-10:]])\n"
   ]
  },
  {
   "cell_type": "markdown",
   "metadata": {},
   "source": [
    "The above 5 topics can be renamed as:\n",
    "1. Middle Eastern Politics\n",
    "2. \n",
    "3. Political & Cultural Discourse\n",
    "4. \n",
    "5. Culture war debate (in this specific case inclusivity in Boy Scouts)"
   ]
  },
  {
   "cell_type": "markdown",
   "metadata": {},
   "source": []
  }
 ],
 "metadata": {
  "kernelspec": {
   "display_name": "Python 3",
   "language": "python",
   "name": "python3"
  },
  "language_info": {
   "codemirror_mode": {
    "name": "ipython",
    "version": 3
   },
   "file_extension": ".py",
   "mimetype": "text/x-python",
   "name": "python",
   "nbconvert_exporter": "python",
   "pygments_lexer": "ipython3",
   "version": "3.12.1"
  }
 },
 "nbformat": 4,
 "nbformat_minor": 2
}
