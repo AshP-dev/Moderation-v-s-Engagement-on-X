{
 "cells": [
  {
   "cell_type": "code",
   "execution_count": null,
   "metadata": {},
   "outputs": [],
   "source": [
    "# Import necessary libraries\n",
    "import pandas as pd\n",
    "import matplotlib.pyplot as plt\n",
    "import seaborn as sns\n",
    "import numpy as np\n",
    "from datetime import datetime"
   ]
  },
  {
   "cell_type": "code",
   "execution_count": null,
   "metadata": {},
   "outputs": [],
   "source": [
    "# Read the relevant data files from the 'write-folder' folder\n",
    "tweets_df = pd.read_csv('data/write-folder/tweet_metadata.csv')\n",
    "tweets_df.head()"
   ]
  },
  {
   "cell_type": "code",
   "execution_count": null,
   "metadata": {},
   "outputs": [],
   "source": [
    "tweets_df_sorted = tweets_df.sort_values(by='followers_count')"
   ]
  },
  {
   "cell_type": "code",
   "execution_count": null,
   "metadata": {},
   "outputs": [],
   "source": [
    "users_df = pd.read_csv('data/write-folder/twitter_user.csv')\n",
    "users_df.head()"
   ]
  },
  {
   "cell_type": "code",
   "execution_count": null,
   "metadata": {},
   "outputs": [],
   "source": [
    "# Sort the users_df by the 'name' column\n",
    "users_df_sorted = users_df.sort_values(by='followers_count')\n",
    "\n",
    "users_df_mostpopular = users_df_sorted.tail(50)\n",
    "\n",
    "user_df_leastpopular = users_df_sorted.head(50)\n"
   ]
  },
  {
   "cell_type": "code",
   "execution_count": null,
   "metadata": {},
   "outputs": [],
   "source": [
    "# Merge tweets_df with users_df_mostpopular on author_id and id\n",
    "popular_tweets_df = tweets_df.merge(users_df_mostpopular, left_on='author_id', right_on='id')\n",
    "\n"
   ]
  },
  {
   "cell_type": "code",
   "execution_count": null,
   "metadata": {
    "vscode": {
     "languageId": "ruby"
    }
   },
   "outputs": [],
   "source": [
    "# Merge popular_tweets_df with users_df to include the 'screen_name' column\n",
    "popular_tweets_df = popular_tweets_df.merge(users_df[['id', 'screen_name']], left_on='author_id', right_on='id', suffixes=('', '_user'))\n",
    "\n",
    "# Drop the redundant 'id_user' column\n",
    "popular_tweets_df.drop(columns=['id_user'])\n",
    "\n",
    "# Display the updated DataFrame\n",
    "popular_tweets_df.head()"
   ]
  },
  {
   "cell_type": "code",
   "execution_count": null,
   "metadata": {
    "vscode": {
     "languageId": "powershell"
    }
   },
   "outputs": [],
   "source": [
    "# Remove redundant 'screen_name_user' columns\n",
    "popular_tweets_df = popular_tweets_df.loc[:, ~popular_tweets_df.columns.duplicated()]\n",
    "\n",
    "# Display the updated DataFrame\n",
    "popular_tweets_df.head()"
   ]
  },
  {
   "cell_type": "code",
   "execution_count": null,
   "metadata": {},
   "outputs": [],
   "source": [
    "most_retweeted_tweets_df = popular_tweets_df.sort_values(by='retweet_count', ascending=False)\n",
    "\n",
    "most_retweeted_tweets_df.head()"
   ]
  },
  {
   "cell_type": "code",
   "execution_count": null,
   "metadata": {},
   "outputs": [],
   "source": [
    "most_liked_tweets_df = popular_tweets_df.sort_values(by='favorite_count', ascending=False)\n",
    "\n",
    "most_liked_tweets_df.head()\n"
   ]
  },
  {
   "cell_type": "code",
   "execution_count": null,
   "metadata": {},
   "outputs": [],
   "source": [
    "most_quoted_tweets_df = popular_tweets_df.sort_values(by='quote_count', ascending=False)\n",
    "\n",
    "most_quoted_tweets_df.head()"
   ]
  },
  {
   "cell_type": "code",
   "execution_count": null,
   "metadata": {},
   "outputs": [],
   "source": [
    "# Drop duplicates based on the 'id' field\n",
    "unique_users_df = popular_tweets_df.sort_values(by='quote_count', ascending=False).drop_duplicates(subset='id', keep='first')\n",
    "\n",
    "# Display the top entries\n",
    "unique_users_df.head()"
   ]
  },
  {
   "cell_type": "code",
   "execution_count": null,
   "metadata": {},
   "outputs": [],
   "source": [
    "author_counts = popular_tweets_df['author_id'].value_counts()\n",
    "\n",
    "author_counts.head()\n"
   ]
  },
  {
   "cell_type": "code",
   "execution_count": null,
   "metadata": {},
   "outputs": [],
   "source": [
    "# Convert author_counts to a DataFrame\n",
    "author_counts_df = author_counts.reset_index()\n",
    "author_counts_df.columns = ['author_id', 'count']\n",
    "\n",
    "# Merge with users_df to get 'id' and 'screen_name' columns\n",
    "author_counts_merged = author_counts_df.merge(users_df[['id', 'screen_name',]], left_on='author_id', right_on='id')\n",
    "\n",
    "# Display the updated DataFrame\n",
    "author_counts_merged.head(10)"
   ]
  },
  {
   "cell_type": "code",
   "execution_count": null,
   "metadata": {},
   "outputs": [],
   "source": [
    "# Calculate the average retweet_count, favorite_count, and quote_count for each author_id\n",
    "average_metrics = tweets_df.groupby('author_id')[['retweet_count', 'favorite_count', 'quote_count']].mean().reset_index()\n",
    "\n",
    "# Rename columns for clarity\n",
    "average_metrics.columns = ['author_id', 'avg_retweet_count', 'avg_favorite_count', 'avg_quote_count']\n",
    "\n",
    "# Merge the average metrics back into the original DataFrame\n",
    "tweets_df = tweets_df.merge(average_metrics, on='author_id', how='left')\n",
    "\n",
    "# Display the updated DataFrame\n",
    "tweets_df.tail()"
   ]
  },
  {
   "cell_type": "code",
   "execution_count": null,
   "metadata": {},
   "outputs": [],
   "source": [
    "# Select the relevant columns\n",
    "filtered_df = author_counts_merged[['count', 'id', 'screen_name']].merge(\n",
    "    average_metrics[['author_id', 'avg_retweet_count', 'avg_favorite_count', 'avg_quote_count']],\n",
    "    left_on='id',\n",
    "    right_on='author_id'\n",
    ").drop(columns=['author_id'])\n",
    "\n",
    "# Display the updated DataFrame\n",
    "filtered_df.head(25)"
   ]
  },
  {
   "cell_type": "code",
   "execution_count": null,
   "metadata": {},
   "outputs": [],
   "source": [
    "# Merge tweet and user data\n",
    "tweets_users_df = tweets_df.merge(\n",
    "    users_df,\n",
    "    left_on='author_id',\n",
    "    right_on='id',\n",
    "    suffixes=('_tweet', '_user')\n",
    ")\n",
    "\n",
    "# Analyze Interaction Data for Tweets\n",
    "interaction_metrics = [\n",
    "    'retweet_count',\n",
    "    'favorite_count',\n",
    "    'quote_count',\n",
    "    'reply_count',\n",
    "    'followers_count'\n",
    "]\n",
    "\n",
    "# Ensure the interaction metrics are numeric\n",
    "for metric in interaction_metrics:\n",
    "    tweets_users_df[metric] = pd.to_numeric(tweets_users_df[metric], errors='coerce')\n",
    "\n",
    "# Remove rows with NaN in interaction metrics\n",
    "tweets_users_df.dropna(subset=interaction_metrics, inplace=True)\n",
    "\n",
    "# Plot the distribution of interaction metrics with increased granularity\n",
    "plt.figure(figsize=(18, 10))\n",
    "for i, metric in enumerate(interaction_metrics):\n",
    "    plt.subplot(2, 3, i + 1)\n",
    "    # Increase bins and use log scale if necessary\n",
    "    max_value = tweets_users_df[metric].max()\n",
    "    if max_value > 1000:\n",
    "        sns.histplot(tweets_users_df[metric], bins=50, kde=True, log_scale=(True, False))\n",
    "        plt.xlabel(f'{metric} (Log Scale)')\n",
    "    else:\n",
    "        sns.histplot(tweets_users_df[metric], bins=50, kde=True)\n",
    "        plt.xlabel(metric)\n",
    "    plt.title(f'Distribution of {metric}')\n",
    "plt.tight_layout()\n",
    "plt.savefig('interaction_metrics_distribution.png')\n",
    "plt.show()\n",
    "\n",
    "# Analyze Popular Users with Increased Granularity\n",
    "# Define threshold for popular users (e.g., top 10% by followers_count)\n",
    "popularity_threshold = tweets_users_df['followers_count'].quantile(0.90)\n",
    "popular_users_df = tweets_users_df[tweets_users_df['followers_count'] >= popularity_threshold]\n",
    "\n",
    "# Metrics for popular users\n",
    "popular_user_metrics = popular_users_df.groupby('author_id')[interaction_metrics].mean()\n",
    "popular_user_metrics.reset_index(inplace=True)\n",
    "\n",
    "# Sort users by followers_count\n",
    "popular_user_metrics.sort_values(by='followers_count', ascending=False, inplace=True)\n",
    "\n",
    "# Plot average interaction metrics for popular users\n",
    "plt.figure(figsize=(14, 8))\n",
    "# Plot each metric separately\n",
    "for metric in interaction_metrics[:-1]:  # Exclude 'followers_count' from metrics to plot\n",
    "    sns.lineplot(\n",
    "        data=popular_user_metrics,\n",
    "        x='author_id',\n",
    "        y=metric,\n",
    "        label=metric\n",
    "    )\n",
    "\n",
    "plt.title('Interaction Metrics for Popular Users')\n",
    "plt.xlabel('Author ID')\n",
    "plt.ylabel('Average Metric Value')\n",
    "plt.xticks(rotation=90)\n",
    "plt.legend()\n",
    "plt.tight_layout()\n",
    "plt.savefig('popular_users_interaction_metrics.png')\n",
    "plt.show()\n",
    "\n",
    "# Additional Visualization: Correlation Heatmap\n",
    "correlation_matrix = tweets_users_df[interaction_metrics].corr()\n",
    "\n",
    "plt.figure(figsize=(8, 6))\n",
    "sns.heatmap(correlation_matrix, annot=True, cmap='Blues')\n",
    "plt.title('Correlation Heatmap of Interaction Metrics')\n",
    "plt.tight_layout()\n",
    "plt.savefig('interaction_metrics_correlation_heatmap.png')\n",
    "plt.show()\n",
    "\n",
    "# Save the summary statistics to CSV\n",
    "interaction_summary = tweets_users_df[interaction_metrics].describe()\n",
    "interaction_summary.to_csv('interaction_summary.csv')\n",
    "popular_user_metrics.to_csv('popular_user_metrics.csv', index=False)\n"
   ]
  },
  {
   "cell_type": "code",
   "execution_count": null,
   "metadata": {},
   "outputs": [],
   "source": [
    "author_counts = tweets_df['author_id'].value_counts()\n",
    "\n",
    "# print(author_counts.head(int(len(author_counts) * 0.10)))   # prints top 10% of author_counts (should be 37)\n",
    "\n",
    "top_authors = list(author_counts.head(25).index)  # top 25 authors\n",
    "top_authors"
   ]
  },
  {
   "cell_type": "code",
   "execution_count": null,
   "metadata": {},
   "outputs": [],
   "source": [
    "author_counts = tweets_df['author_id'].value_counts()\n",
    "author_counts"
   ]
  },
  {
   "cell_type": "code",
   "execution_count": null,
   "metadata": {},
   "outputs": [],
   "source": [
    "tweets_df['created_at'] = pd.to_datetime(tweets_df['created_at'])\n",
    "\n",
    "# Group by 'author_id' and get the earliest date in 'created_at' column\n",
    "earliest_dates = tweets_df.groupby('author_id')['created_at'].min().reset_index()\n",
    "\n",
    "# Display the earliest dates for each author_id\n",
    "print(earliest_dates)"
   ]
  },
  {
   "cell_type": "code",
   "execution_count": null,
   "metadata": {},
   "outputs": [],
   "source": []
  },
  {
   "cell_type": "code",
   "execution_count": null,
   "metadata": {},
   "outputs": [],
   "source": []
  }
 ],
 "metadata": {
  "kernelspec": {
   "display_name": "Python 3",
   "language": "python",
   "name": "python3"
  },
  "language_info": {
   "codemirror_mode": {
    "name": "ipython",
    "version": 3
   },
   "file_extension": ".py",
   "mimetype": "text/x-python",
   "name": "python",
   "nbconvert_exporter": "python",
   "pygments_lexer": "ipython3",
   "version": "3.10.6"
  }
 },
 "nbformat": 4,
 "nbformat_minor": 2
}
